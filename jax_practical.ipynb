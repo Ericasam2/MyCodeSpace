{
 "cells": [
  {
   "cell_type": "markdown",
   "metadata": {},
   "source": [
    "# Jax Practical"
   ]
  },
  {
   "cell_type": "markdown",
   "metadata": {},
   "source": [
    "This document served as notes to study the basic knowledge of **Jax**.\n",
    "\n",
    "The document is not supposed to be a tutorial/bible for the Jax, it is just a good reference of **Jax**, and would be focused on certain functions of Jax which are highly related to author's need.\n",
    "\n",
    "For a complete tutorial, please refer to [Jax-read-the-doc](https://jax.readthedocs.io/en/latest/installation.html)"
   ]
  },
  {
   "cell_type": "code",
   "execution_count": 2,
   "metadata": {},
   "outputs": [],
   "source": [
    "import jax.numpy as jnp\n",
    "import numpy as np\n",
    "import jax"
   ]
  },
  {
   "cell_type": "markdown",
   "metadata": {},
   "source": [
    "## Features of Jax"
   ]
  },
  {
   "cell_type": "markdown",
   "metadata": {},
   "source": [
    "### Pure Function\n",
    "\n",
    "1. Definition\n",
    "    -   All the input data is passed through the function parameters, all the results are output through the function results\n",
    "    -   A pure function will always return the same result if invoked with the same inputs\n",
    "\n",
    "2. Jax behavior\n",
    "    -   JAX invokes a cached compilation of the function after the fisrt run\n",
    "    -   If the input type changes, the function will be rerun\n",
    "    -   *Iterator* is not competialable with **jax.jit**"
   ]
  },
  {
   "cell_type": "code",
   "execution_count": 4,
   "metadata": {},
   "outputs": [
    {
     "name": "stderr",
     "output_type": "stream",
     "text": [
      "An NVIDIA GPU may be present on this machine, but a CUDA-enabled jaxlib is not installed. Falling back to cpu.\n"
     ]
    },
    {
     "name": "stdout",
     "output_type": "stream",
     "text": [
      "Executing function\n",
      "First call:  4.0\n",
      "Second call:  5.0\n",
      "Executing function\n",
      "Third call, different type:  [5.]\n"
     ]
    }
   ],
   "source": [
    "def impure_print_side_effect(x):\n",
    "  print(\"Executing function\")  # This is a side-effect\n",
    "  return x\n",
    "\n",
    "# The side-effects appear during the first run\n",
    "print (\"First call: \", jax.jit(impure_print_side_effect)(4.))\n",
    "\n",
    "# Subsequent runs with parameters of same type and shape may not show the side-effect\n",
    "# This is because JAX now invokes a cached compilation of the function\n",
    "print (\"Second call: \", jax.jit(impure_print_side_effect)(5.))\n",
    "\n",
    "# JAX re-runs the Python function when the type or shape of the argument changes\n",
    "print (\"Third call, different type: \", jax.jit(impure_print_side_effect)(jnp.array([5.])))"
   ]
  },
  {
   "cell_type": "markdown",
   "metadata": {},
   "source": [
    "### Out-of-bounds indexing\n",
    "\n",
    "1. Definition\n",
    "    -   Index of an array is out of bound\n",
    "\n",
    "2. Jax Behavior\n",
    "    -   No error will be returned\n",
    "    -   The last value of the array will be returned"
   ]
  },
  {
   "cell_type": "code",
   "execution_count": 9,
   "metadata": {},
   "outputs": [
    {
     "name": "stdout",
     "output_type": "stream",
     "text": [
      "Index error!\n"
     ]
    },
    {
     "data": {
      "text/plain": [
       "Array(9., dtype=float32)"
      ]
     },
     "execution_count": 9,
     "metadata": {},
     "output_type": "execute_result"
    }
   ],
   "source": [
    "while True:\n",
    "    try:\n",
    "        np.arange(10)[11]\n",
    "    except IndexError:\n",
    "        print(\"Index error!\")\n",
    "        break\n",
    "\n",
    "# output the last value of the array\n",
    "jnp.arange(10.0).at[11].get()"
   ]
  },
  {
   "cell_type": "markdown",
   "metadata": {},
   "source": [
    "### Non-array input\n",
    "\n",
    "1. Definition\n",
    "    -   input is list or tuple\n",
    "\n",
    "2. Jax behavior\n",
    "    -   return *TypeError*"
   ]
  },
  {
   "cell_type": "code",
   "execution_count": 12,
   "metadata": {},
   "outputs": [
    {
     "name": "stdout",
     "output_type": "stream",
     "text": [
      "TypeError!\n"
     ]
    },
    {
     "data": {
      "text/plain": [
       "Array(6, dtype=int32)"
      ]
     },
     "execution_count": 12,
     "metadata": {},
     "output_type": "execute_result"
    }
   ],
   "source": [
    "while True:\n",
    "    try:\n",
    "        # jnp do not accept list\n",
    "        jnp.sum([1, 2, 3])\n",
    "    except TypeError:\n",
    "        print(\"TypeError!\")\n",
    "        break\n",
    "\n",
    "jnp.sum(np.array([1,2,3]))"
   ]
  },
  {
   "cell_type": "markdown",
   "metadata": {},
   "source": [
    "## JIT (Just-In-Time)"
   ]
  },
  {
   "cell_type": "code",
   "execution_count": null,
   "metadata": {},
   "outputs": [],
   "source": []
  },
  {
   "cell_type": "markdown",
   "metadata": {},
   "source": [
    "### Jit compilation and Caching\n",
    "\n",
    "1. Pipeline\n",
    "    -   Define a function and Jit it\n",
    "    -   Jax compiler compiles the function and cach the XLA code (cost a lot)\n",
    "    -   Subsequent call reuses the cached code\n",
    "\n",
    "2. Implemetation tip\n",
    "    -   Avoid `jit()` on the temporary functions\n",
    "    -   The function defined in the loop will have new *hash* in each iteration"
   ]
  },
  {
   "cell_type": "code",
   "execution_count": 41,
   "metadata": {},
   "outputs": [
    {
     "name": "stdout",
     "output_type": "stream",
     "text": [
      "jit called in a loop with partials:\n",
      "258 ms ± 10.8 ms per loop (mean ± std. dev. of 7 runs, 1 loop each)\n",
      "jit called in a loop with lambdas:\n",
      "263 ms ± 10.4 ms per loop (mean ± std. dev. of 7 runs, 1 loop each)\n",
      "jit called in a loop with caching:\n",
      "2.37 ms ± 33.5 μs per loop (mean ± std. dev. of 7 runs, 100 loops each)\n"
     ]
    }
   ],
   "source": [
    "from functools import partial\n",
    "\n",
    "def unjitted_loop_body(prev_i):\n",
    "  return prev_i + 1\n",
    "\n",
    "def g_inner_jitted_partial(x, n):\n",
    "  i = 0\n",
    "  while i < n:\n",
    "    # Don't do this! each time the partial returns\n",
    "    # a function with different hash\n",
    "    i = jax.jit(partial(unjitted_loop_body))(i)\n",
    "  return x + i\n",
    "\n",
    "def g_inner_jitted_lambda(x, n):\n",
    "  i = 0\n",
    "  while i < n:\n",
    "    # Don't do this!, lambda will also return\n",
    "    # a function with a different hash\n",
    "    i = jax.jit(lambda x: unjitted_loop_body(x))(i)\n",
    "  return x + i\n",
    "\n",
    "def g_inner_jitted_normal(x, n):\n",
    "  i = 0\n",
    "  while i < n:\n",
    "    # this is OK, since JAX can find the\n",
    "    # cached, compiled function\n",
    "    i = jax.jit(unjitted_loop_body)(i)\n",
    "  return x + i\n",
    "\n",
    "print(\"jit called in a loop with partials:\")\n",
    "%timeit g_inner_jitted_partial(10, 20).block_until_ready()\n",
    "\n",
    "print(\"jit called in a loop with lambdas:\")\n",
    "%timeit g_inner_jitted_lambda(10, 20).block_until_ready()\n",
    "\n",
    "print(\"jit called in a loop with caching:\")\n",
    "%timeit g_inner_jitted_normal(10, 20).block_until_ready()"
   ]
  },
  {
   "cell_type": "markdown",
   "metadata": {},
   "source": [
    "### No Jit\n",
    "\n",
    "1. Conditions when Jit do not work\n",
    "    -   Condition (*if ... else ...*)\n",
    "    -   While loop (*while ...*)\n",
    "\n",
    "2. Explanation\n",
    "    -   The compilation of the **jit** functions would depend on the type/shape, not value\n",
    "\n",
    "3. Solution\n",
    "    -   Avoid the condition on value\n",
    "    -   use ```jax.lax.cond()```"
   ]
  },
  {
   "cell_type": "code",
   "execution_count": 37,
   "metadata": {},
   "outputs": [
    {
     "name": "stdout",
     "output_type": "stream",
     "text": [
      "TracerBoolConversionError!\n"
     ]
    },
    {
     "data": {
      "text/plain": [
       "Array(20, dtype=int32, weak_type=True)"
      ]
     },
     "execution_count": 37,
     "metadata": {},
     "output_type": "execute_result"
    }
   ],
   "source": [
    "# Counter example\n",
    "def g(x, n):\n",
    "    i = 0\n",
    "    while i < n:\n",
    "        i += 1\n",
    "    return x + i\n",
    "\n",
    "while True:\n",
    "    try:\n",
    "        jax.jit(g)(10, 20)  # Raises an error\n",
    "    except jax.errors.TracerBoolConversionError:\n",
    "        print(\"TracerBoolConversionError!\")\n",
    "        break\n",
    "\n",
    "# Proper way\n",
    "@jax.jit\n",
    "def loop_body(prev_i):\n",
    "  # will only be run once\n",
    "  return prev_i + 1\n",
    "\n",
    "def g_inner_jitted(x, n):\n",
    "  i = 0\n",
    "  while i < n:\n",
    "    i = loop_body(i)\n",
    "  return x + i\n",
    "\n",
    "g_inner_jitted(10, 10)"
   ]
  },
  {
   "cell_type": "markdown",
   "metadata": {},
   "source": [
    "## Debugging"
   ]
  },
  {
   "cell_type": "markdown",
   "metadata": {},
   "source": [
    "1. Rule of thumb\n",
    "    -   `jax.debug.print()` for the traced array value\n",
    "    -   `print()` for the static values such as dtypes and array shapes"
   ]
  },
  {
   "cell_type": "code",
   "execution_count": 43,
   "metadata": {},
   "outputs": [
    {
     "name": "stdout",
     "output_type": "stream",
     "text": [
      "print(x) -> Traced<ShapedArray(float32[], weak_type=True)>with<DynamicJaxprTrace(level=1/0)>\n",
      "print(y) -> Traced<ShapedArray(float32[], weak_type=True)>with<DynamicJaxprTrace(level=1/0)>\n",
      "jax.debug.print(x) -> 2.0\n",
      "jax.debug.print(y) -> 0.9092974066734314\n"
     ]
    }
   ],
   "source": [
    "@jax.jit\n",
    "def f(x):\n",
    "  print(\"print(x) ->\", x)\n",
    "  y = jnp.sin(x)\n",
    "  print(\"print(y) ->\", y)\n",
    "  return y\n",
    "\n",
    "result = f(2.)\n",
    "\n",
    "# runtime value\n",
    "@jax.jit\n",
    "def f(x):\n",
    "  jax.debug.print(\"jax.debug.print(x) -> {x}\", x=x)\n",
    "  y = jnp.sin(x)\n",
    "  jax.debug.print(\"jax.debug.print(y) -> {y}\", y=y)\n",
    "  return y\n",
    "\n",
    "result = f(2.)"
   ]
  }
 ],
 "metadata": {
  "kernelspec": {
   "display_name": "base",
   "language": "python",
   "name": "python3"
  },
  "language_info": {
   "codemirror_mode": {
    "name": "ipython",
    "version": 3
   },
   "file_extension": ".py",
   "mimetype": "text/x-python",
   "name": "python",
   "nbconvert_exporter": "python",
   "pygments_lexer": "ipython3",
   "version": "3.12.4"
  }
 },
 "nbformat": 4,
 "nbformat_minor": 2
}
